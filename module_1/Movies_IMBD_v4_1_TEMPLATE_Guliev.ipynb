{
  "nbformat": 4,
  "nbformat_minor": 0,
  "metadata": {
    "colab": {
      "name": "Movies_IMBD_v4.1_TEMPLATE.ipynb",
      "provenance": [],
      "collapsed_sections": []
    },
    "kernelspec": {
      "display_name": "Python 3",
      "language": "python",
      "name": "python3"
    },
    "language_info": {
      "codemirror_mode": {
        "name": "ipython",
        "version": 3
      },
      "file_extension": ".py",
      "mimetype": "text/x-python",
      "name": "python",
      "nbconvert_exporter": "python",
      "pygments_lexer": "ipython3",
      "version": "3.7.4"
    }
  },
  "cells": [
    {
      "cell_type": "code",
      "metadata": {
        "colab": {
          "base_uri": "https://localhost:8080/"
        },
        "id": "Di94-AGXMBcZ",
        "outputId": "745ff2b5-0d37-41ba-8ef0-04ac5b6e40a3"
      },
      "source": [
        "from google.colab import drive\n",
        "drive.mount('/content/drive')"
      ],
      "execution_count": 79,
      "outputs": [
        {
          "output_type": "stream",
          "text": [
            "Drive already mounted at /content/drive; to attempt to forcibly remount, call drive.mount(\"/content/drive\", force_remount=True).\n"
          ],
          "name": "stdout"
        }
      ]
    },
    {
      "cell_type": "code",
      "metadata": {
        "colab": {
          "base_uri": "https://localhost:8080/"
        },
        "id": "sS4UY20UMxag",
        "outputId": "a7acbc7c-79a0-43a9-f71d-925201da2551"
      },
      "source": [
        "!ls /content/drive/'MyDrive'/'Skill Fatory'/'Юнит 1'/'Project 1.0'/\n"
      ],
      "execution_count": 2,
      "outputs": [
        {
          "output_type": "stream",
          "text": [
            "movie_bd_v5.csv  movie_bd_v5.xls  Movies_IMBD_v4.1_TEMPLATE.ipynb\n"
          ],
          "name": "stdout"
        }
      ]
    },
    {
      "cell_type": "code",
      "metadata": {
        "id": "ePEyXG_PM6r4"
      },
      "source": [
        "!cp /content/drive/'MyDrive'/'Skill Fatory'/'Юнит 1'/'Project 1.0'/movie_bd_v5.csv ."
      ],
      "execution_count": 3,
      "outputs": []
    },
    {
      "cell_type": "code",
      "metadata": {
        "id": "U2D2gTdJVp90"
      },
      "source": [
        "import numpy as np\n",
        "import pandas as pd\n",
        "import seaborn as sns\n",
        "import matplotlib.pyplot as plt\n",
        "from collections import Counter\n"
      ],
      "execution_count": 62,
      "outputs": []
    },
    {
      "cell_type": "code",
      "metadata": {
        "colab": {
          "base_uri": "https://localhost:8080/",
          "height": 615
        },
        "id": "oyGfxL3eVp9-",
        "outputId": "bfd584f4-eade-4977-cd7b-d99d234ffdb6"
      },
      "source": [
        "data = pd.read_csv('movie_bd_v5.csv')\n",
        "data.sample(5)"
      ],
      "execution_count": 5,
      "outputs": [
        {
          "output_type": "execute_result",
          "data": {
            "text/html": [
              "<div>\n",
              "<style scoped>\n",
              "    .dataframe tbody tr th:only-of-type {\n",
              "        vertical-align: middle;\n",
              "    }\n",
              "\n",
              "    .dataframe tbody tr th {\n",
              "        vertical-align: top;\n",
              "    }\n",
              "\n",
              "    .dataframe thead th {\n",
              "        text-align: right;\n",
              "    }\n",
              "</style>\n",
              "<table border=\"1\" class=\"dataframe\">\n",
              "  <thead>\n",
              "    <tr style=\"text-align: right;\">\n",
              "      <th></th>\n",
              "      <th>imdb_id</th>\n",
              "      <th>budget</th>\n",
              "      <th>revenue</th>\n",
              "      <th>original_title</th>\n",
              "      <th>cast</th>\n",
              "      <th>director</th>\n",
              "      <th>tagline</th>\n",
              "      <th>overview</th>\n",
              "      <th>runtime</th>\n",
              "      <th>genres</th>\n",
              "      <th>production_companies</th>\n",
              "      <th>release_date</th>\n",
              "      <th>vote_average</th>\n",
              "      <th>release_year</th>\n",
              "    </tr>\n",
              "  </thead>\n",
              "  <tbody>\n",
              "    <tr>\n",
              "      <th>166</th>\n",
              "      <td>tt2883512</td>\n",
              "      <td>11000000</td>\n",
              "      <td>45967935</td>\n",
              "      <td>Chef</td>\n",
              "      <td>Jon Favreau|John Leguizamo|Bobby Cannavale|Emj...</td>\n",
              "      <td>Jon Favreau</td>\n",
              "      <td>Starting from scratch never tasted so good</td>\n",
              "      <td>A chef who loses his restaurant job starts up ...</td>\n",
              "      <td>115</td>\n",
              "      <td>Comedy</td>\n",
              "      <td>Open Road Films|Aldamisa Entertainment|Kilburn...</td>\n",
              "      <td>5/8/2014</td>\n",
              "      <td>7.2</td>\n",
              "      <td>2014</td>\n",
              "    </tr>\n",
              "    <tr>\n",
              "      <th>1783</th>\n",
              "      <td>tt0490204</td>\n",
              "      <td>20000000</td>\n",
              "      <td>22222308</td>\n",
              "      <td>Reign Over Me</td>\n",
              "      <td>Adam Sandler|Don Cheadle|Jada Pinkett Smith|Li...</td>\n",
              "      <td>Mike Binder</td>\n",
              "      <td>Let in the unexpected.</td>\n",
              "      <td>A man who lost his family in the September 11 ...</td>\n",
              "      <td>124</td>\n",
              "      <td>Drama</td>\n",
              "      <td>Columbia Pictures|Happy Madison Productions|Su...</td>\n",
              "      <td>3/23/2007</td>\n",
              "      <td>7.0</td>\n",
              "      <td>2007</td>\n",
              "    </tr>\n",
              "    <tr>\n",
              "      <th>1672</th>\n",
              "      <td>tt0440963</td>\n",
              "      <td>70000000</td>\n",
              "      <td>442824138</td>\n",
              "      <td>The Bourne Ultimatum</td>\n",
              "      <td>Matt Damon|Julia Stiles|David Strathairn|Scott...</td>\n",
              "      <td>Paul Greengrass</td>\n",
              "      <td>Remember everything. Forgive nothing.</td>\n",
              "      <td>Bourne is brought out of hiding once again by ...</td>\n",
              "      <td>115</td>\n",
              "      <td>Action|Drama|Mystery|Thriller</td>\n",
              "      <td>Universal Pictures|The Kennedy/Marshall Compan...</td>\n",
              "      <td>8/3/2007</td>\n",
              "      <td>7.2</td>\n",
              "      <td>2007</td>\n",
              "    </tr>\n",
              "    <tr>\n",
              "      <th>702</th>\n",
              "      <td>tt0844286</td>\n",
              "      <td>20000000</td>\n",
              "      <td>5530764</td>\n",
              "      <td>The Brothers Bloom</td>\n",
              "      <td>Rachel Weisz|Adrien Brody|Mark Ruffalo|Rinko K...</td>\n",
              "      <td>Rian Johnson</td>\n",
              "      <td>They'd never let the truth come between them.</td>\n",
              "      <td>The Brothers Bloom are the best con men in the...</td>\n",
              "      <td>114</td>\n",
              "      <td>Adventure|Comedy|Drama|Romance</td>\n",
              "      <td>The Weinstein Company|Summit Entertainment|End...</td>\n",
              "      <td>9/9/2008</td>\n",
              "      <td>6.8</td>\n",
              "      <td>2008</td>\n",
              "    </tr>\n",
              "    <tr>\n",
              "      <th>1072</th>\n",
              "      <td>tt0337692</td>\n",
              "      <td>25000000</td>\n",
              "      <td>8784318</td>\n",
              "      <td>On the Road</td>\n",
              "      <td>Kristen Stewart|Garrett Hedlund|Sam Riley|Kirs...</td>\n",
              "      <td>Walter Salles</td>\n",
              "      <td>The best teacher is experience.</td>\n",
              "      <td>Dean and Sal are the portrait of the Beat Gene...</td>\n",
              "      <td>137</td>\n",
              "      <td>Adventure|Drama</td>\n",
              "      <td>American Zoetrope|France 2 CinÃ©ma|VideoFilmes...</td>\n",
              "      <td>5/22/2012</td>\n",
              "      <td>5.6</td>\n",
              "      <td>2012</td>\n",
              "    </tr>\n",
              "  </tbody>\n",
              "</table>\n",
              "</div>"
            ],
            "text/plain": [
              "        imdb_id    budget    revenue  ... release_date vote_average release_year\n",
              "166   tt2883512  11000000   45967935  ...     5/8/2014          7.2         2014\n",
              "1783  tt0490204  20000000   22222308  ...    3/23/2007          7.0         2007\n",
              "1672  tt0440963  70000000  442824138  ...     8/3/2007          7.2         2007\n",
              "702   tt0844286  20000000    5530764  ...     9/9/2008          6.8         2008\n",
              "1072  tt0337692  25000000    8784318  ...    5/22/2012          5.6         2012\n",
              "\n",
              "[5 rows x 14 columns]"
            ]
          },
          "metadata": {
            "tags": []
          },
          "execution_count": 5
        }
      ]
    },
    {
      "cell_type": "code",
      "metadata": {
        "colab": {
          "base_uri": "https://localhost:8080/",
          "height": 297
        },
        "id": "CoYUnagMVp-C",
        "outputId": "9510e0ad-0def-48f0-fa16-11fc8c7246cc"
      },
      "source": [
        "data.describe()"
      ],
      "execution_count": null,
      "outputs": [
        {
          "output_type": "execute_result",
          "data": {
            "text/html": [
              "<div>\n",
              "<style scoped>\n",
              "    .dataframe tbody tr th:only-of-type {\n",
              "        vertical-align: middle;\n",
              "    }\n",
              "\n",
              "    .dataframe tbody tr th {\n",
              "        vertical-align: top;\n",
              "    }\n",
              "\n",
              "    .dataframe thead th {\n",
              "        text-align: right;\n",
              "    }\n",
              "</style>\n",
              "<table border=\"1\" class=\"dataframe\">\n",
              "  <thead>\n",
              "    <tr style=\"text-align: right;\">\n",
              "      <th></th>\n",
              "      <th>budget</th>\n",
              "      <th>revenue</th>\n",
              "      <th>runtime</th>\n",
              "      <th>vote_average</th>\n",
              "      <th>release_year</th>\n",
              "    </tr>\n",
              "  </thead>\n",
              "  <tbody>\n",
              "    <tr>\n",
              "      <th>count</th>\n",
              "      <td>1.889000e+03</td>\n",
              "      <td>1.889000e+03</td>\n",
              "      <td>1889.000000</td>\n",
              "      <td>1889.000000</td>\n",
              "      <td>1889.000000</td>\n",
              "    </tr>\n",
              "    <tr>\n",
              "      <th>mean</th>\n",
              "      <td>5.431083e+07</td>\n",
              "      <td>1.553653e+08</td>\n",
              "      <td>109.658549</td>\n",
              "      <td>6.140762</td>\n",
              "      <td>2007.860773</td>\n",
              "    </tr>\n",
              "    <tr>\n",
              "      <th>std</th>\n",
              "      <td>4.858721e+07</td>\n",
              "      <td>2.146698e+08</td>\n",
              "      <td>18.017041</td>\n",
              "      <td>0.764763</td>\n",
              "      <td>4.468841</td>\n",
              "    </tr>\n",
              "    <tr>\n",
              "      <th>min</th>\n",
              "      <td>5.000000e+06</td>\n",
              "      <td>2.033165e+06</td>\n",
              "      <td>63.000000</td>\n",
              "      <td>3.300000</td>\n",
              "      <td>2000.000000</td>\n",
              "    </tr>\n",
              "    <tr>\n",
              "      <th>25%</th>\n",
              "      <td>2.000000e+07</td>\n",
              "      <td>3.456058e+07</td>\n",
              "      <td>97.000000</td>\n",
              "      <td>5.600000</td>\n",
              "      <td>2004.000000</td>\n",
              "    </tr>\n",
              "    <tr>\n",
              "      <th>50%</th>\n",
              "      <td>3.800000e+07</td>\n",
              "      <td>8.361541e+07</td>\n",
              "      <td>107.000000</td>\n",
              "      <td>6.100000</td>\n",
              "      <td>2008.000000</td>\n",
              "    </tr>\n",
              "    <tr>\n",
              "      <th>75%</th>\n",
              "      <td>7.200000e+07</td>\n",
              "      <td>1.782626e+08</td>\n",
              "      <td>120.000000</td>\n",
              "      <td>6.600000</td>\n",
              "      <td>2012.000000</td>\n",
              "    </tr>\n",
              "    <tr>\n",
              "      <th>max</th>\n",
              "      <td>3.800000e+08</td>\n",
              "      <td>2.781506e+09</td>\n",
              "      <td>214.000000</td>\n",
              "      <td>8.100000</td>\n",
              "      <td>2015.000000</td>\n",
              "    </tr>\n",
              "  </tbody>\n",
              "</table>\n",
              "</div>"
            ],
            "text/plain": [
              "             budget       revenue      runtime  vote_average  release_year\n",
              "count  1.889000e+03  1.889000e+03  1889.000000   1889.000000   1889.000000\n",
              "mean   5.431083e+07  1.553653e+08   109.658549      6.140762   2007.860773\n",
              "std    4.858721e+07  2.146698e+08    18.017041      0.764763      4.468841\n",
              "min    5.000000e+06  2.033165e+06    63.000000      3.300000   2000.000000\n",
              "25%    2.000000e+07  3.456058e+07    97.000000      5.600000   2004.000000\n",
              "50%    3.800000e+07  8.361541e+07   107.000000      6.100000   2008.000000\n",
              "75%    7.200000e+07  1.782626e+08   120.000000      6.600000   2012.000000\n",
              "max    3.800000e+08  2.781506e+09   214.000000      8.100000   2015.000000"
            ]
          },
          "metadata": {
            "tags": []
          },
          "execution_count": 6
        }
      ]
    },
    {
      "cell_type": "markdown",
      "metadata": {
        "id": "DTIt7ezGVp-G"
      },
      "source": [
        "# Предобработка"
      ]
    },
    {
      "cell_type": "code",
      "metadata": {
        "id": "jNb40DwKVp-H"
      },
      "source": [
        "answers = {} # создадим словарь для ответов\n",
        "\n",
        "# тут другие ваши предобработки колонок например:\n",
        "\n",
        "data['profit'] = data['revenue'] - data['budget'] #задал значение profit\n",
        "\n",
        "data['release_date'] = pd.to_datetime(data['release_date']) \n",
        "#приведение даты в удобоваримый вид\n",
        "\n",
        "data['month'] = data['release_date'].dt.month #добавление колонки с номером месяца\n",
        "\n",
        "data['month_name'] = data.release_date.apply(lambda x: x.strftime('%B')) \n",
        "#столбец с названиями месяцев выхода фильма\n",
        "\n",
        "data['vote_average'] = data['vote_average'].astype(float) \n",
        "#перевод значений рейтинга в формат float\n",
        "\n",
        "from itertools import combinations #для использования в 27 вопросе\n",
        "\n",
        "#the time given in the dataset is in string format.\n",
        "#So we need to change this in datetime format\n",
        "# ..."
      ],
      "execution_count": 63,
      "outputs": []
    },
    {
      "cell_type": "markdown",
      "metadata": {
        "id": "YxZaH-nPVp-L"
      },
      "source": [
        "# 1. У какого фильма из списка самый большой бюджет?"
      ]
    },
    {
      "cell_type": "markdown",
      "metadata": {
        "id": "Nd-G5gX6Vp-M"
      },
      "source": [
        "Использовать варианты ответов в коде решения запрещено.    \n",
        "Вы думаете и в жизни у вас будут варианты ответов?)"
      ]
    },
    {
      "cell_type": "code",
      "metadata": {
        "id": "uVnXAY5RVp-O"
      },
      "source": [
        "# в словарь вставляем номер вопроса и ваш ответ на него\n",
        "# Пример: \n",
        "answers['1'] = '2. Spider-Man 3 (tt0413300)'\n",
        "# запишите свой вариант ответа\n",
        "answers['1'] = 'Pirates of the Caribbean: On Stranger Tides (tt1298650)' #+\n",
        "# если ответили верно, можете добавить комментарий со значком \"+\""
      ],
      "execution_count": 80,
      "outputs": []
    },
    {
      "cell_type": "code",
      "metadata": {
        "colab": {
          "base_uri": "https://localhost:8080/",
          "height": 80
        },
        "id": "dZwb3m28Vp-S",
        "outputId": "fd8aaa71-5143-4751-e27a-0c744e66e1b9"
      },
      "source": [
        "# тут пишем ваш код для решения данного вопроса:\n",
        "ans=data.sort_values(by='budget', ascending=False)\n",
        "\n",
        "display(ans[['original_title','imdb_id']].head(1))"
      ],
      "execution_count": null,
      "outputs": [
        {
          "output_type": "display_data",
          "data": {
            "text/html": [
              "<div>\n",
              "<style scoped>\n",
              "    .dataframe tbody tr th:only-of-type {\n",
              "        vertical-align: middle;\n",
              "    }\n",
              "\n",
              "    .dataframe tbody tr th {\n",
              "        vertical-align: top;\n",
              "    }\n",
              "\n",
              "    .dataframe thead th {\n",
              "        text-align: right;\n",
              "    }\n",
              "</style>\n",
              "<table border=\"1\" class=\"dataframe\">\n",
              "  <thead>\n",
              "    <tr style=\"text-align: right;\">\n",
              "      <th></th>\n",
              "      <th>original_title</th>\n",
              "      <th>imdb_id</th>\n",
              "    </tr>\n",
              "  </thead>\n",
              "  <tbody>\n",
              "    <tr>\n",
              "      <th>723</th>\n",
              "      <td>Pirates of the Caribbean: On Stranger Tides</td>\n",
              "      <td>tt1298650</td>\n",
              "    </tr>\n",
              "  </tbody>\n",
              "</table>\n",
              "</div>"
            ],
            "text/plain": [
              "                                  original_title    imdb_id\n",
              "723  Pirates of the Caribbean: On Stranger Tides  tt1298650"
            ]
          },
          "metadata": {
            "tags": []
          }
        }
      ]
    },
    {
      "cell_type": "markdown",
      "metadata": {
        "id": "K7L3nbRXVp-X"
      },
      "source": [
        "ВАРИАНТ 2"
      ]
    },
    {
      "cell_type": "code",
      "metadata": {
        "colab": {
          "base_uri": "https://localhost:8080/",
          "height": 185
        },
        "id": "OGaoQI7rVp-X",
        "outputId": "5fff7299-8729-4e33-fb7e-5ac590db7eb1"
      },
      "source": [
        "# можно добавлять разные варианты решения\n",
        "data.sort_values(by='budget', ascending=False).head(1)"
      ],
      "execution_count": null,
      "outputs": [
        {
          "output_type": "execute_result",
          "data": {
            "text/html": [
              "<div>\n",
              "<style scoped>\n",
              "    .dataframe tbody tr th:only-of-type {\n",
              "        vertical-align: middle;\n",
              "    }\n",
              "\n",
              "    .dataframe tbody tr th {\n",
              "        vertical-align: top;\n",
              "    }\n",
              "\n",
              "    .dataframe thead th {\n",
              "        text-align: right;\n",
              "    }\n",
              "</style>\n",
              "<table border=\"1\" class=\"dataframe\">\n",
              "  <thead>\n",
              "    <tr style=\"text-align: right;\">\n",
              "      <th></th>\n",
              "      <th>imdb_id</th>\n",
              "      <th>budget</th>\n",
              "      <th>revenue</th>\n",
              "      <th>original_title</th>\n",
              "      <th>cast</th>\n",
              "      <th>director</th>\n",
              "      <th>tagline</th>\n",
              "      <th>overview</th>\n",
              "      <th>runtime</th>\n",
              "      <th>genres</th>\n",
              "      <th>production_companies</th>\n",
              "      <th>release_date</th>\n",
              "      <th>vote_average</th>\n",
              "      <th>release_year</th>\n",
              "      <th>profit</th>\n",
              "    </tr>\n",
              "  </thead>\n",
              "  <tbody>\n",
              "    <tr>\n",
              "      <th>723</th>\n",
              "      <td>tt1298650</td>\n",
              "      <td>380000000</td>\n",
              "      <td>1021683000</td>\n",
              "      <td>Pirates of the Caribbean: On Stranger Tides</td>\n",
              "      <td>Johnny Depp|PenÃ©lope Cruz|Geoffrey Rush|Ian M...</td>\n",
              "      <td>Rob Marshall</td>\n",
              "      <td>Live Forever Or Die Trying.</td>\n",
              "      <td>Captain Jack Sparrow crosses paths with a woma...</td>\n",
              "      <td>136</td>\n",
              "      <td>Adventure|Action|Fantasy</td>\n",
              "      <td>Walt Disney Pictures|Jerry Bruckheimer Films|M...</td>\n",
              "      <td>5/11/2011</td>\n",
              "      <td>6.3</td>\n",
              "      <td>2011</td>\n",
              "      <td>641683000</td>\n",
              "    </tr>\n",
              "  </tbody>\n",
              "</table>\n",
              "</div>"
            ],
            "text/plain": [
              "       imdb_id     budget     revenue  ... vote_average release_year     profit\n",
              "723  tt1298650  380000000  1021683000  ...          6.3         2011  641683000\n",
              "\n",
              "[1 rows x 15 columns]"
            ]
          },
          "metadata": {
            "tags": []
          },
          "execution_count": 21
        }
      ]
    },
    {
      "cell_type": "markdown",
      "metadata": {
        "id": "FNRbbI3vVp-c"
      },
      "source": [
        "# 2. Какой из фильмов самый длительный (в минутах)?"
      ]
    },
    {
      "cell_type": "code",
      "metadata": {
        "id": "vHAoEXNTVp-d"
      },
      "source": [
        "# думаю логику работы с этим словарем вы уже поняли, \n",
        "# по этому не буду больше его дублировать\n",
        "answers['2'] = 'Gods and Generals (tt0279111)'#+"
      ],
      "execution_count": 81,
      "outputs": []
    },
    {
      "cell_type": "code",
      "metadata": {
        "colab": {
          "base_uri": "https://localhost:8080/",
          "height": 80
        },
        "id": "ot-VX2XrVp-g",
        "outputId": "10761fbe-4c9e-44be-b5bb-91d995e7ed2c"
      },
      "source": [
        "ans=data.sort_values(by='runtime', ascending=False)\n",
        "display(ans[['original_title','imdb_id']].head(1)) \n"
      ],
      "execution_count": null,
      "outputs": [
        {
          "output_type": "display_data",
          "data": {
            "text/html": [
              "<div>\n",
              "<style scoped>\n",
              "    .dataframe tbody tr th:only-of-type {\n",
              "        vertical-align: middle;\n",
              "    }\n",
              "\n",
              "    .dataframe tbody tr th {\n",
              "        vertical-align: top;\n",
              "    }\n",
              "\n",
              "    .dataframe thead th {\n",
              "        text-align: right;\n",
              "    }\n",
              "</style>\n",
              "<table border=\"1\" class=\"dataframe\">\n",
              "  <thead>\n",
              "    <tr style=\"text-align: right;\">\n",
              "      <th></th>\n",
              "      <th>original_title</th>\n",
              "      <th>imdb_id</th>\n",
              "    </tr>\n",
              "  </thead>\n",
              "  <tbody>\n",
              "    <tr>\n",
              "      <th>1157</th>\n",
              "      <td>Gods and Generals</td>\n",
              "      <td>tt0279111</td>\n",
              "    </tr>\n",
              "  </tbody>\n",
              "</table>\n",
              "</div>"
            ],
            "text/plain": [
              "         original_title    imdb_id\n",
              "1157  Gods and Generals  tt0279111"
            ]
          },
          "metadata": {
            "tags": []
          }
        }
      ]
    },
    {
      "cell_type": "markdown",
      "metadata": {
        "id": "bapLlpW8Vp-k"
      },
      "source": [
        "# 3. Какой из фильмов самый короткий (в минутах)?\n",
        "\n",
        "\n",
        "\n"
      ]
    },
    {
      "cell_type": "code",
      "metadata": {
        "id": "5roI3R2_UKRn"
      },
      "source": [
        "answers['3'] = 'Winnie the Pooh (tt1449283)'#+"
      ],
      "execution_count": 82,
      "outputs": []
    },
    {
      "cell_type": "code",
      "metadata": {
        "colab": {
          "base_uri": "https://localhost:8080/",
          "height": 80
        },
        "id": "YBxaSHuAVp-l",
        "outputId": "d94b7649-24e5-4d37-8637-bbf0ded581e7"
      },
      "source": [
        "ans=data.sort_values(by='runtime', ascending=True)\n",
        "display(ans[['original_title', 'imdb_id'] ].head(1))"
      ],
      "execution_count": null,
      "outputs": [
        {
          "output_type": "display_data",
          "data": {
            "text/html": [
              "<div>\n",
              "<style scoped>\n",
              "    .dataframe tbody tr th:only-of-type {\n",
              "        vertical-align: middle;\n",
              "    }\n",
              "\n",
              "    .dataframe tbody tr th {\n",
              "        vertical-align: top;\n",
              "    }\n",
              "\n",
              "    .dataframe thead th {\n",
              "        text-align: right;\n",
              "    }\n",
              "</style>\n",
              "<table border=\"1\" class=\"dataframe\">\n",
              "  <thead>\n",
              "    <tr style=\"text-align: right;\">\n",
              "      <th></th>\n",
              "      <th>original_title</th>\n",
              "      <th>imdb_id</th>\n",
              "    </tr>\n",
              "  </thead>\n",
              "  <tbody>\n",
              "    <tr>\n",
              "      <th>768</th>\n",
              "      <td>Winnie the Pooh</td>\n",
              "      <td>tt1449283</td>\n",
              "    </tr>\n",
              "  </tbody>\n",
              "</table>\n",
              "</div>"
            ],
            "text/plain": [
              "      original_title    imdb_id\n",
              "768  Winnie the Pooh  tt1449283"
            ]
          },
          "metadata": {
            "tags": []
          }
        }
      ]
    },
    {
      "cell_type": "markdown",
      "metadata": {
        "id": "TfQbxbfNVp-p"
      },
      "source": [
        "# 4. Какова средняя длительность фильмов?\n"
      ]
    },
    {
      "cell_type": "code",
      "metadata": {
        "id": "5K6dKZYVVp-q"
      },
      "source": [
        "answers['4'] = '110'#+"
      ],
      "execution_count": 83,
      "outputs": []
    },
    {
      "cell_type": "code",
      "metadata": {
        "colab": {
          "base_uri": "https://localhost:8080/"
        },
        "id": "NudZD-RKVmuC",
        "outputId": "10df09d4-6867-4fca-9145-a9235dba8de5"
      },
      "source": [
        "round(data['runtime'].mean())"
      ],
      "execution_count": null,
      "outputs": [
        {
          "output_type": "execute_result",
          "data": {
            "text/plain": [
              "110"
            ]
          },
          "metadata": {
            "tags": []
          },
          "execution_count": 18
        }
      ]
    },
    {
      "cell_type": "markdown",
      "metadata": {
        "id": "q_L0ZfFdVbG9"
      },
      "source": [
        ""
      ]
    },
    {
      "cell_type": "markdown",
      "metadata": {
        "id": "r5TvbnT_Vp-u"
      },
      "source": [
        "# 5. Каково медианное значение длительности фильмов? "
      ]
    },
    {
      "cell_type": "code",
      "metadata": {
        "id": "PXb4ahWzW8zS"
      },
      "source": [
        "answers['5'] = '107'#+"
      ],
      "execution_count": 84,
      "outputs": []
    },
    {
      "cell_type": "code",
      "metadata": {
        "colab": {
          "base_uri": "https://localhost:8080/"
        },
        "id": "iBROplKnVp-v",
        "outputId": "f6678cdc-9b46-41a2-b132-b987f0ec85cb"
      },
      "source": [
        "round(data['runtime'].median(axis=0))"
      ],
      "execution_count": null,
      "outputs": [
        {
          "output_type": "execute_result",
          "data": {
            "text/plain": [
              "107"
            ]
          },
          "metadata": {
            "tags": []
          },
          "execution_count": 19
        }
      ]
    },
    {
      "cell_type": "markdown",
      "metadata": {
        "id": "39P-deDSVp-y"
      },
      "source": [
        "# 6. Какой самый прибыльный фильм?\n",
        "#### Внимание! Здесь и далее под «прибылью» или «убытками» понимается разность между сборами и бюджетом фильма. (прибыль = сборы - бюджет) в нашем датасете это будет (profit = revenue - budget) "
      ]
    },
    {
      "cell_type": "code",
      "metadata": {
        "id": "VwhiEZHRjxvk"
      },
      "source": [
        "answers['6'] = 'Avatar\ttt0499549' #+"
      ],
      "execution_count": 85,
      "outputs": []
    },
    {
      "cell_type": "code",
      "metadata": {
        "colab": {
          "base_uri": "https://localhost:8080/",
          "height": 80
        },
        "id": "UYZh4T9WVp-y",
        "outputId": "5d3091a3-87d1-4120-94f8-1da7ea9f5fa0"
      },
      "source": [
        "# лучше код получения столбца profit вынести в Предобработку что в начале\n",
        "\n",
        "ans=data.sort_values(by='profit', ascending=False)\n",
        "display(ans[['original_title','imdb_id']].head(1)) \n",
        "\n",
        "\n"
      ],
      "execution_count": null,
      "outputs": [
        {
          "output_type": "display_data",
          "data": {
            "text/html": [
              "<div>\n",
              "<style scoped>\n",
              "    .dataframe tbody tr th:only-of-type {\n",
              "        vertical-align: middle;\n",
              "    }\n",
              "\n",
              "    .dataframe tbody tr th {\n",
              "        vertical-align: top;\n",
              "    }\n",
              "\n",
              "    .dataframe thead th {\n",
              "        text-align: right;\n",
              "    }\n",
              "</style>\n",
              "<table border=\"1\" class=\"dataframe\">\n",
              "  <thead>\n",
              "    <tr style=\"text-align: right;\">\n",
              "      <th></th>\n",
              "      <th>original_title</th>\n",
              "      <th>imdb_id</th>\n",
              "    </tr>\n",
              "  </thead>\n",
              "  <tbody>\n",
              "    <tr>\n",
              "      <th>239</th>\n",
              "      <td>Avatar</td>\n",
              "      <td>tt0499549</td>\n",
              "    </tr>\n",
              "  </tbody>\n",
              "</table>\n",
              "</div>"
            ],
            "text/plain": [
              "    original_title    imdb_id\n",
              "239         Avatar  tt0499549"
            ]
          },
          "metadata": {
            "tags": []
          }
        }
      ]
    },
    {
      "cell_type": "markdown",
      "metadata": {
        "id": "M99JmIX4Vp-2"
      },
      "source": [
        "# 7. Какой фильм самый убыточный? "
      ]
    },
    {
      "cell_type": "code",
      "metadata": {
        "id": "6jRMGbOXnOtw"
      },
      "source": [
        "answers['7'] = 'The Lone Ranger\ttt1210819' #+"
      ],
      "execution_count": 89,
      "outputs": []
    },
    {
      "cell_type": "code",
      "metadata": {
        "colab": {
          "base_uri": "https://localhost:8080/",
          "height": 80
        },
        "id": "w-D2m4XPVp-3",
        "outputId": "923faecf-02c3-49b7-fcb1-83b1ceabb1ec"
      },
      "source": [
        "ans=data.sort_values(by='profit', ascending=True)\n",
        "display(ans[['original_title','imdb_id']].head(1)) "
      ],
      "execution_count": null,
      "outputs": [
        {
          "output_type": "display_data",
          "data": {
            "text/html": [
              "<div>\n",
              "<style scoped>\n",
              "    .dataframe tbody tr th:only-of-type {\n",
              "        vertical-align: middle;\n",
              "    }\n",
              "\n",
              "    .dataframe tbody tr th {\n",
              "        vertical-align: top;\n",
              "    }\n",
              "\n",
              "    .dataframe thead th {\n",
              "        text-align: right;\n",
              "    }\n",
              "</style>\n",
              "<table border=\"1\" class=\"dataframe\">\n",
              "  <thead>\n",
              "    <tr style=\"text-align: right;\">\n",
              "      <th></th>\n",
              "      <th>original_title</th>\n",
              "      <th>imdb_id</th>\n",
              "    </tr>\n",
              "  </thead>\n",
              "  <tbody>\n",
              "    <tr>\n",
              "      <th>1245</th>\n",
              "      <td>The Lone Ranger</td>\n",
              "      <td>tt1210819</td>\n",
              "    </tr>\n",
              "  </tbody>\n",
              "</table>\n",
              "</div>"
            ],
            "text/plain": [
              "       original_title    imdb_id\n",
              "1245  The Lone Ranger  tt1210819"
            ]
          },
          "metadata": {
            "tags": []
          }
        }
      ]
    },
    {
      "cell_type": "markdown",
      "metadata": {
        "id": "wEOM5ERVVp-6"
      },
      "source": [
        "# 8. У скольких фильмов из датасета объем сборов оказался выше бюджета?"
      ]
    },
    {
      "cell_type": "code",
      "metadata": {
        "id": "MX6jLQlknkz3"
      },
      "source": [
        "answers['8'] = '1478' #+"
      ],
      "execution_count": 88,
      "outputs": []
    },
    {
      "cell_type": "code",
      "metadata": {
        "colab": {
          "base_uri": "https://localhost:8080/"
        },
        "id": "y00_7HD6Vp-7",
        "outputId": "1c9cb672-54da-45b6-a2d4-e24321f741e1"
      },
      "source": [
        "df = data[data.profit > 0]\n",
        "\n",
        "df.count()"
      ],
      "execution_count": null,
      "outputs": [
        {
          "output_type": "execute_result",
          "data": {
            "text/plain": [
              "imdb_id                 1478\n",
              "solo                    1478\n",
              "summa                   1478\n",
              "budget                  1478\n",
              "revenue                 1478\n",
              "original_title          1478\n",
              "profit                  1478\n",
              "cast                    1478\n",
              "director                1478\n",
              "tagline                 1478\n",
              "overview                1478\n",
              "runtime                 1478\n",
              "genres                  1478\n",
              "production_companies    1478\n",
              "release_date            1478\n",
              "vote_average            1478\n",
              "release_year            1478\n",
              "dtype: int64"
            ]
          },
          "metadata": {
            "tags": []
          },
          "execution_count": 52
        }
      ]
    },
    {
      "cell_type": "markdown",
      "metadata": {
        "id": "xhpspA9KVp_A"
      },
      "source": [
        "# 9. Какой фильм оказался самым кассовым в 2008 году?"
      ]
    },
    {
      "cell_type": "code",
      "metadata": {
        "id": "MoUyQr9RVp_B"
      },
      "source": [
        "answers['9'] = 'The Dark Knight (tt0468569)' #+"
      ],
      "execution_count": 90,
      "outputs": []
    },
    {
      "cell_type": "code",
      "metadata": {
        "colab": {
          "base_uri": "https://localhost:8080/",
          "height": 80
        },
        "id": "wxSWxakjpv2t",
        "outputId": "cf1141c7-5438-4f60-8338-87903cbdf3b5"
      },
      "source": [
        "df=data[data.release_year==2008]\n",
        "df.sort_values(by='revenue', ascending=False)[['original_title','imdb_id']].head(1)\n"
      ],
      "execution_count": null,
      "outputs": [
        {
          "output_type": "execute_result",
          "data": {
            "text/html": [
              "<div>\n",
              "<style scoped>\n",
              "    .dataframe tbody tr th:only-of-type {\n",
              "        vertical-align: middle;\n",
              "    }\n",
              "\n",
              "    .dataframe tbody tr th {\n",
              "        vertical-align: top;\n",
              "    }\n",
              "\n",
              "    .dataframe thead th {\n",
              "        text-align: right;\n",
              "    }\n",
              "</style>\n",
              "<table border=\"1\" class=\"dataframe\">\n",
              "  <thead>\n",
              "    <tr style=\"text-align: right;\">\n",
              "      <th></th>\n",
              "      <th>original_title</th>\n",
              "      <th>imdb_id</th>\n",
              "    </tr>\n",
              "  </thead>\n",
              "  <tbody>\n",
              "    <tr>\n",
              "      <th>599</th>\n",
              "      <td>The Dark Knight</td>\n",
              "      <td>tt0468569</td>\n",
              "    </tr>\n",
              "  </tbody>\n",
              "</table>\n",
              "</div>"
            ],
            "text/plain": [
              "      original_title    imdb_id\n",
              "599  The Dark Knight  tt0468569"
            ]
          },
          "metadata": {
            "tags": []
          },
          "execution_count": 67
        }
      ]
    },
    {
      "cell_type": "markdown",
      "metadata": {
        "id": "Zi4hDKidVp_F"
      },
      "source": [
        "# 10. Самый убыточный фильм за период с 2012 по 2014 г. (включительно)?\n"
      ]
    },
    {
      "cell_type": "code",
      "metadata": {
        "id": "h-MRmIP4s7nV"
      },
      "source": [
        "answers['10'] = 'The Lone Ranger\t(tt1210819)' #+"
      ],
      "execution_count": 91,
      "outputs": []
    },
    {
      "cell_type": "code",
      "metadata": {
        "colab": {
          "base_uri": "https://localhost:8080/",
          "height": 80
        },
        "id": "XqyRmufJVp_F",
        "outputId": "cfaa14fc-35dd-4713-acbc-cd7996c1570e"
      },
      "source": [
        "df=data[(data.release_year >= 2008)&\n",
        "        (data.release_year<= 2014)]\n",
        "df.sort_values(by='profit', ascending=True)[['original_title','imdb_id']].head(1)"
      ],
      "execution_count": null,
      "outputs": [
        {
          "output_type": "execute_result",
          "data": {
            "text/html": [
              "<div>\n",
              "<style scoped>\n",
              "    .dataframe tbody tr th:only-of-type {\n",
              "        vertical-align: middle;\n",
              "    }\n",
              "\n",
              "    .dataframe tbody tr th {\n",
              "        vertical-align: top;\n",
              "    }\n",
              "\n",
              "    .dataframe thead th {\n",
              "        text-align: right;\n",
              "    }\n",
              "</style>\n",
              "<table border=\"1\" class=\"dataframe\">\n",
              "  <thead>\n",
              "    <tr style=\"text-align: right;\">\n",
              "      <th></th>\n",
              "      <th>original_title</th>\n",
              "      <th>imdb_id</th>\n",
              "    </tr>\n",
              "  </thead>\n",
              "  <tbody>\n",
              "    <tr>\n",
              "      <th>1245</th>\n",
              "      <td>The Lone Ranger</td>\n",
              "      <td>tt1210819</td>\n",
              "    </tr>\n",
              "  </tbody>\n",
              "</table>\n",
              "</div>"
            ],
            "text/plain": [
              "       original_title    imdb_id\n",
              "1245  The Lone Ranger  tt1210819"
            ]
          },
          "metadata": {
            "tags": []
          },
          "execution_count": 64
        }
      ]
    },
    {
      "cell_type": "markdown",
      "metadata": {
        "id": "EA7Sa9dkVp_I"
      },
      "source": [
        "# 11. Какого жанра фильмов больше всего?"
      ]
    },
    {
      "cell_type": "code",
      "metadata": {
        "id": "zsJAwJ8QVp_J"
      },
      "source": [
        "# эту задачу тоже можно решать разными подходами, попробуй реализовать разные варианты\n",
        "# если будешь добавлять функцию - выноси ее в предобработку что в начале"
      ],
      "execution_count": null,
      "outputs": []
    },
    {
      "cell_type": "code",
      "metadata": {
        "id": "7OiByWTpZIDp"
      },
      "source": [
        "answers['11'] = 'Drama' #+"
      ],
      "execution_count": 92,
      "outputs": []
    },
    {
      "cell_type": "code",
      "metadata": {
        "id": "8V61XTkGZHmt"
      },
      "source": [
        "df= data.genres.str.split('|') # Series из списков жанров\n",
        "genr=df.sum() #суммируются все списки в один\n",
        "pd.Series(genr).value_counts() # количество уникальных значений по жанрам\n",
        "\n"
      ],
      "execution_count": null,
      "outputs": []
    },
    {
      "cell_type": "markdown",
      "metadata": {
        "id": "Ax6g2C8SVp_M"
      },
      "source": [
        "ВАРИАНТ 2"
      ]
    },
    {
      "cell_type": "code",
      "metadata": {
        "colab": {
          "base_uri": "https://localhost:8080/",
          "height": 35
        },
        "id": "otO3SbrSVp_N",
        "outputId": "c90056e0-8c09-463c-c290-e38f19bff725"
      },
      "source": [
        "# применение метода  explode()\n",
        "\n",
        "df= data.genres.str.split('|') # Series из списков жанров\n",
        "genr=df.explode() #индексация всех элементов списка\n",
        "\n",
        "genr.value_counts().index[0]\n",
        "\n"
      ],
      "execution_count": null,
      "outputs": [
        {
          "output_type": "execute_result",
          "data": {
            "application/vnd.google.colaboratory.intrinsic+json": {
              "type": "string"
            },
            "text/plain": [
              "'Drama'"
            ]
          },
          "metadata": {
            "tags": []
          },
          "execution_count": 58
        }
      ]
    },
    {
      "cell_type": "markdown",
      "metadata": {
        "id": "T9_bPWpkVp_Q"
      },
      "source": [
        "# 12. Фильмы какого жанра чаще всего становятся прибыльными? "
      ]
    },
    {
      "cell_type": "code",
      "metadata": {
        "id": "Tmt8MaK1Vp_R"
      },
      "source": [
        "answers['12'] = 'Drama' #+"
      ],
      "execution_count": 93,
      "outputs": []
    },
    {
      "cell_type": "code",
      "metadata": {
        "colab": {
          "base_uri": "https://localhost:8080/",
          "height": 35
        },
        "id": "L_d4W4S9ja_K",
        "outputId": "abcd162f-1360-492b-ac95-6ad345468b02"
      },
      "source": [
        "data=data[data['profit']>0] #фильтрация по прибыльности\n",
        "\n",
        "data.genres.str.split('|').explode().value_counts().index[0] # принцип решения, как в предыдущем вопросе\n",
        "\n",
        "\n"
      ],
      "execution_count": null,
      "outputs": [
        {
          "output_type": "execute_result",
          "data": {
            "application/vnd.google.colaboratory.intrinsic+json": {
              "type": "string"
            },
            "text/plain": [
              "'Drama'"
            ]
          },
          "metadata": {
            "tags": []
          },
          "execution_count": 57
        }
      ]
    },
    {
      "cell_type": "markdown",
      "metadata": {
        "id": "0F23bgsDVp_U"
      },
      "source": [
        "# 13. У какого режиссера самые большие суммарные кассовые сборы?"
      ]
    },
    {
      "cell_type": "code",
      "metadata": {
        "id": "K6Z3J8ygVp_X"
      },
      "source": [
        "answers['13'] = 'Peter Jackson' #+\n"
      ],
      "execution_count": 94,
      "outputs": []
    },
    {
      "cell_type": "code",
      "metadata": {
        "colab": {
          "base_uri": "https://localhost:8080/",
          "height": 111
        },
        "id": "mnOY4k2enKtv",
        "outputId": "6951d080-f59b-4ccc-82b3-690f27385ffa"
      },
      "source": [
        "directors=data.pivot_table(['revenue'],['director'],aggfunc='sum')\n",
        "\n",
        "directors.sort_values(by='revenue', ascending=False).head(1)\n"
      ],
      "execution_count": null,
      "outputs": [
        {
          "output_type": "execute_result",
          "data": {
            "text/html": [
              "<div>\n",
              "<style scoped>\n",
              "    .dataframe tbody tr th:only-of-type {\n",
              "        vertical-align: middle;\n",
              "    }\n",
              "\n",
              "    .dataframe tbody tr th {\n",
              "        vertical-align: top;\n",
              "    }\n",
              "\n",
              "    .dataframe thead th {\n",
              "        text-align: right;\n",
              "    }\n",
              "</style>\n",
              "<table border=\"1\" class=\"dataframe\">\n",
              "  <thead>\n",
              "    <tr style=\"text-align: right;\">\n",
              "      <th></th>\n",
              "      <th>revenue</th>\n",
              "    </tr>\n",
              "    <tr>\n",
              "      <th>director</th>\n",
              "      <th></th>\n",
              "    </tr>\n",
              "  </thead>\n",
              "  <tbody>\n",
              "    <tr>\n",
              "      <th>Peter Jackson</th>\n",
              "      <td>6490593685</td>\n",
              "    </tr>\n",
              "  </tbody>\n",
              "</table>\n",
              "</div>"
            ],
            "text/plain": [
              "                  revenue\n",
              "director                 \n",
              "Peter Jackson  6490593685"
            ]
          },
          "metadata": {
            "tags": []
          },
          "execution_count": 52
        }
      ]
    },
    {
      "cell_type": "markdown",
      "metadata": {
        "id": "PsYC9FgRVp_a"
      },
      "source": [
        "# 14. Какой режисер снял больше всего фильмов в стиле Action?"
      ]
    },
    {
      "cell_type": "code",
      "metadata": {
        "id": "wd2M-wHeVp_b"
      },
      "source": [
        "answers['14'] = 'Robert Rodriguez' #+"
      ],
      "execution_count": 95,
      "outputs": []
    },
    {
      "cell_type": "code",
      "metadata": {
        "colab": {
          "base_uri": "https://localhost:8080/",
          "height": 35
        },
        "id": "FwkokkbBo9Yg",
        "outputId": "b3f4f4ec-d479-4c2e-e660-83eb88a88cc5"
      },
      "source": [
        "data.head()\n",
        "\n",
        "action_data=data[data.genres.str.contains('Action',na=False)]\n",
        "\n",
        "action_data.director.str.split('|').explode().value_counts().index[0]\n"
      ],
      "execution_count": null,
      "outputs": [
        {
          "output_type": "execute_result",
          "data": {
            "application/vnd.google.colaboratory.intrinsic+json": {
              "type": "string"
            },
            "text/plain": [
              "'Robert Rodriguez'"
            ]
          },
          "metadata": {
            "tags": []
          },
          "execution_count": 77
        }
      ]
    },
    {
      "cell_type": "markdown",
      "metadata": {
        "id": "PQ0KciD7Vp_f"
      },
      "source": [
        "# 15. Фильмы с каким актером принесли самые высокие кассовые сборы в 2012 году? "
      ]
    },
    {
      "cell_type": "code",
      "metadata": {
        "id": "aga62oeKVp_g"
      },
      "source": [
        "answers['15'] = 'Chris Hemsworth' #+"
      ],
      "execution_count": 96,
      "outputs": []
    },
    {
      "cell_type": "code",
      "metadata": {
        "colab": {
          "base_uri": "https://localhost:8080/",
          "height": 35
        },
        "id": "KwhvnL8C2CFn",
        "outputId": "0e672361-bfe4-4388-e3ce-664579e3cf5d"
      },
      "source": [
        "df = data[data.release_date.str.contains('2012')].copy()\n",
        "\n",
        "df['actors'] = df.cast.str.split('|') #добавил столбец со списками актеров\n",
        "df=df.explode('actors')  #заэксплоудил 'actors'\n",
        "\n",
        "actors_table=df.pivot_table(['revenue'],['actors'],aggfunc='sum')\n",
        "\n",
        "actors_table.sort_values(by='revenue', ascending=False).index[0]\n",
        "\n",
        "\n",
        "\n",
        "\n"
      ],
      "execution_count": null,
      "outputs": [
        {
          "output_type": "execute_result",
          "data": {
            "application/vnd.google.colaboratory.intrinsic+json": {
              "type": "string"
            },
            "text/plain": [
              "'Chris Hemsworth'"
            ]
          },
          "metadata": {
            "tags": []
          },
          "execution_count": 111
        }
      ]
    },
    {
      "cell_type": "markdown",
      "metadata": {
        "id": "mWHyyL7QVp_j"
      },
      "source": [
        "# 16. Какой актер снялся в большем количестве высокобюджетных фильмов?"
      ]
    },
    {
      "cell_type": "code",
      "metadata": {
        "id": "tRxIKyW-6zxI"
      },
      "source": [
        "answers['16'] = 'Matt Damon' #+"
      ],
      "execution_count": 97,
      "outputs": []
    },
    {
      "cell_type": "code",
      "metadata": {
        "colab": {
          "base_uri": "https://localhost:8080/",
          "height": 35
        },
        "id": "qQtmHKTFVp_k",
        "outputId": "e1ac8a09-d27a-4c32-d262-fbf3d9b0db78"
      },
      "source": [
        "df=data[data['budget'] > data['budget'].mean()].copy()\n",
        "df['actors'] = df.cast.str.split('|')\n",
        "df=df.explode('actors')\n",
        "df.actors.value_counts().index[0]"
      ],
      "execution_count": null,
      "outputs": [
        {
          "output_type": "execute_result",
          "data": {
            "application/vnd.google.colaboratory.intrinsic+json": {
              "type": "string"
            },
            "text/plain": [
              "'Matt Damon'"
            ]
          },
          "metadata": {
            "tags": []
          },
          "execution_count": 17
        }
      ]
    },
    {
      "cell_type": "markdown",
      "metadata": {
        "id": "NIh6AaW5Vp_n"
      },
      "source": [
        "# 17. В фильмах какого жанра больше всего снимался Nicolas Cage? "
      ]
    },
    {
      "cell_type": "code",
      "metadata": {
        "id": "H74SJDIBVp_n"
      },
      "source": [
        "answers['17'] = 'Action' #+"
      ],
      "execution_count": 98,
      "outputs": []
    },
    {
      "cell_type": "code",
      "metadata": {
        "colab": {
          "base_uri": "https://localhost:8080/",
          "height": 35
        },
        "id": "6D4i1qDY7EaY",
        "outputId": "87fa0d20-4200-4976-aa88-4b2fa5609df0"
      },
      "source": [
        "data['actors'] = data.cast.str.split('|')\n",
        "data=data.explode('actors')\n",
        "\n",
        "df=data[data['actors'] == 'Nicolas Cage']\n",
        "df.genres.str.split('|').explode().value_counts().index[0]\n"
      ],
      "execution_count": null,
      "outputs": [
        {
          "output_type": "execute_result",
          "data": {
            "application/vnd.google.colaboratory.intrinsic+json": {
              "type": "string"
            },
            "text/plain": [
              "'Action'"
            ]
          },
          "metadata": {
            "tags": []
          },
          "execution_count": 9
        }
      ]
    },
    {
      "cell_type": "markdown",
      "metadata": {
        "id": "RqOmPRfWVp_q"
      },
      "source": [
        "# 18. Самый убыточный фильм от Paramount Pictures"
      ]
    },
    {
      "cell_type": "code",
      "metadata": {
        "id": "9E_B0Y96Vp_r"
      },
      "source": [
        "answers['18'] = 'K-19: The Widowmaker\t(tt0267626)' #+"
      ],
      "execution_count": 99,
      "outputs": []
    },
    {
      "cell_type": "code",
      "metadata": {
        "id": "Hort_kOuv6Dp",
        "colab": {
          "base_uri": "https://localhost:8080/",
          "height": 80
        },
        "outputId": "fdd0dfc5-3bfa-4a84-cb41-d4c448d993c3"
      },
      "source": [
        "df = data[data.production_companies.str.contains('Paramount Pictures')]\n",
        "ans = df.sort_values(by='profit', ascending=True)\n",
        "\n",
        "display(ans[['original_title', 'imdb_id'] ].head(1))\n"
      ],
      "execution_count": null,
      "outputs": [
        {
          "output_type": "display_data",
          "data": {
            "text/html": [
              "<div>\n",
              "<style scoped>\n",
              "    .dataframe tbody tr th:only-of-type {\n",
              "        vertical-align: middle;\n",
              "    }\n",
              "\n",
              "    .dataframe tbody tr th {\n",
              "        vertical-align: top;\n",
              "    }\n",
              "\n",
              "    .dataframe thead th {\n",
              "        text-align: right;\n",
              "    }\n",
              "</style>\n",
              "<table border=\"1\" class=\"dataframe\">\n",
              "  <thead>\n",
              "    <tr style=\"text-align: right;\">\n",
              "      <th></th>\n",
              "      <th>original_title</th>\n",
              "      <th>imdb_id</th>\n",
              "    </tr>\n",
              "  </thead>\n",
              "  <tbody>\n",
              "    <tr>\n",
              "      <th>925</th>\n",
              "      <td>K-19: The Widowmaker</td>\n",
              "      <td>tt0267626</td>\n",
              "    </tr>\n",
              "  </tbody>\n",
              "</table>\n",
              "</div>"
            ],
            "text/plain": [
              "           original_title    imdb_id\n",
              "925  K-19: The Widowmaker  tt0267626"
            ]
          },
          "metadata": {
            "tags": []
          }
        }
      ]
    },
    {
      "cell_type": "code",
      "metadata": {
        "id": "jJISKMPHEQ1q"
      },
      "source": [
        ""
      ],
      "execution_count": null,
      "outputs": []
    },
    {
      "cell_type": "markdown",
      "metadata": {
        "id": "vS8Ur6ddVp_u"
      },
      "source": [
        "# 19. Какой год стал самым успешным по суммарным кассовым сборам?"
      ]
    },
    {
      "cell_type": "code",
      "metadata": {
        "id": "-WFv4tUUE87-"
      },
      "source": [
        "answers['19'] = '2015' #+"
      ],
      "execution_count": 100,
      "outputs": []
    },
    {
      "cell_type": "code",
      "metadata": {
        "id": "Dnbt4GdIVp_v",
        "colab": {
          "base_uri": "https://localhost:8080/"
        },
        "outputId": "c08967cb-f45a-4d67-b591-b3b05fd7d8c0"
      },
      "source": [
        "\n",
        "ans = data.pivot_table(['revenue'],['release_year'], aggfunc=sum)\n",
        "\n",
        "ans.sort_values(by = 'revenue', ascending=False).index[0]\n"
      ],
      "execution_count": null,
      "outputs": [
        {
          "output_type": "execute_result",
          "data": {
            "text/plain": [
              "2015"
            ]
          },
          "metadata": {
            "tags": []
          },
          "execution_count": 20
        }
      ]
    },
    {
      "cell_type": "markdown",
      "metadata": {
        "id": "JAzJh4QAVp_z"
      },
      "source": [
        "# 20. Какой самый прибыльный год для студии Warner Bros?"
      ]
    },
    {
      "cell_type": "code",
      "metadata": {
        "id": "wgVu02DEVp_0"
      },
      "source": [
        "answers['20'] = '2014' #+"
      ],
      "execution_count": 101,
      "outputs": []
    },
    {
      "cell_type": "code",
      "metadata": {
        "colab": {
          "base_uri": "https://localhost:8080/"
        },
        "id": "9wPcDgMpHZeX",
        "outputId": "16b563fd-6545-407d-9e47-5ba9a4f023d4"
      },
      "source": [
        "df = data[data.production_companies.str.contains('Warner Bro')]\n",
        "\n",
        "ans = df.pivot_table(['revenue'],['release_year'], aggfunc=sum)\n",
        "\n",
        "ans.sort_values(by = 'revenue', ascending=False).index[0]\n"
      ],
      "execution_count": null,
      "outputs": [
        {
          "output_type": "execute_result",
          "data": {
            "text/plain": [
              "2014"
            ]
          },
          "metadata": {
            "tags": []
          },
          "execution_count": 23
        }
      ]
    },
    {
      "cell_type": "markdown",
      "metadata": {
        "id": "8Im1S2HRVp_4"
      },
      "source": [
        "# 21. В каком месяце за все годы суммарно вышло больше всего фильмов?"
      ]
    },
    {
      "cell_type": "code",
      "metadata": {
        "id": "lev6TH7gVp_4"
      },
      "source": [
        "answers['21'] = 'September' #+"
      ],
      "execution_count": 102,
      "outputs": []
    },
    {
      "cell_type": "code",
      "metadata": {
        "colab": {
          "base_uri": "https://localhost:8080/",
          "height": 35
        },
        "id": "3QJbh8DmKSPS",
        "outputId": "650a4084-b9a9-486b-bf93-dbac4b5f3762"
      },
      "source": [
        "\n",
        "\n",
        "data['release_date'] = pd.to_datetime(data['release_date'])\n",
        "\n",
        "data['month'] = data['release_date'].dt.month\n",
        "\n",
        "data['month_name'] = data.release_date.apply(lambda x: x.strftime('%B'))\n",
        "\n",
        "ans=data.pivot_table(['imdb_id'],['month_name'], aggfunc='nunique')\n",
        "display(ans.sort_values(by=['imdb_id'], ascending=False).index[0])"
      ],
      "execution_count": null,
      "outputs": [
        {
          "output_type": "display_data",
          "data": {
            "application/vnd.google.colaboratory.intrinsic+json": {
              "type": "string"
            },
            "text/plain": [
              "'September'"
            ]
          },
          "metadata": {
            "tags": []
          }
        }
      ]
    },
    {
      "cell_type": "markdown",
      "metadata": {
        "id": "uAJsZ_NeVp_7"
      },
      "source": [
        "# 22. Сколько суммарно вышло фильмов летом? (за июнь, июль, август)"
      ]
    },
    {
      "cell_type": "code",
      "metadata": {
        "id": "Aa-hEREoVp_8"
      },
      "source": [
        "answers['22'] = '450' #+"
      ],
      "execution_count": 103,
      "outputs": []
    },
    {
      "cell_type": "code",
      "metadata": {
        "colab": {
          "base_uri": "https://localhost:8080/",
          "height": 34
        },
        "id": "kC7gHSdHz6L3",
        "outputId": "5038cbe6-4258-494c-b401-210d354bbe45"
      },
      "source": [
        "\n",
        "ans = data.query('month_name in [\"June\", \"July\", \"August\"]') \n",
        "#отфильтровано по летним месяцам\n",
        "\n",
        "display(ans['imdb_id'].nunique())"
      ],
      "execution_count": null,
      "outputs": [
        {
          "output_type": "display_data",
          "data": {
            "text/plain": [
              "450"
            ]
          },
          "metadata": {
            "tags": []
          }
        }
      ]
    },
    {
      "cell_type": "markdown",
      "metadata": {
        "id": "G94ppOY1VqAA"
      },
      "source": [
        "# 23. Для какого режиссера зима – самое продуктивное время года? "
      ]
    },
    {
      "cell_type": "code",
      "metadata": {
        "id": "RhNTsamuVqAB"
      },
      "source": [
        "answers['23'] = 'Peter Jackson' #+"
      ],
      "execution_count": 104,
      "outputs": []
    },
    {
      "cell_type": "code",
      "metadata": {
        "colab": {
          "base_uri": "https://localhost:8080/",
          "height": 137
        },
        "id": "j5U5UMUf4FkZ",
        "outputId": "49860df5-a6ac-4536-fa9a-d7664400cb44"
      },
      "source": [
        "ans = data.query('month_name in [\"December\", \"January\", \"February\"]')\n",
        "\n",
        "ans['director'] = ans.director.str.split('|')\n",
        "\n",
        "ans = ans.explode('director')\n",
        "\n",
        "direcots_winter = ans.pivot_table(['imdb_id'],['director'], aggfunc='nunique')\n",
        "\n",
        "display(direcots_winter.sort_values(by='imdb_id',ascending=False).index[0])"
      ],
      "execution_count": null,
      "outputs": [
        {
          "output_type": "stream",
          "text": [
            "/usr/local/lib/python3.6/dist-packages/ipykernel_launcher.py:3: SettingWithCopyWarning: \n",
            "A value is trying to be set on a copy of a slice from a DataFrame.\n",
            "Try using .loc[row_indexer,col_indexer] = value instead\n",
            "\n",
            "See the caveats in the documentation: https://pandas.pydata.org/pandas-docs/stable/user_guide/indexing.html#returning-a-view-versus-a-copy\n",
            "  This is separate from the ipykernel package so we can avoid doing imports until\n"
          ],
          "name": "stderr"
        },
        {
          "output_type": "display_data",
          "data": {
            "application/vnd.google.colaboratory.intrinsic+json": {
              "type": "string"
            },
            "text/plain": [
              "'Peter Jackson'"
            ]
          },
          "metadata": {
            "tags": []
          }
        }
      ]
    },
    {
      "cell_type": "markdown",
      "metadata": {
        "id": "RBo0JVjVVqAF"
      },
      "source": [
        "# 24. Какая студия дает самые длинные названия своим фильмам по количеству символов?"
      ]
    },
    {
      "cell_type": "code",
      "metadata": {
        "id": "QRGS8L0iVqAG"
      },
      "source": [
        "answers['24'] = 'Four By Two Productions' #+"
      ],
      "execution_count": 105,
      "outputs": []
    },
    {
      "cell_type": "code",
      "metadata": {
        "colab": {
          "base_uri": "https://localhost:8080/",
          "height": 35
        },
        "id": "ZxpCHcS49rFX",
        "outputId": "67b1a112-83ac-4866-ecc2-a77114752e48"
      },
      "source": [
        "ans = data.copy()\n",
        "\n",
        "ans['production_companies'] = ans.production_companies.str.split('|')\n",
        "ans = ans.explode('production_companies')\n",
        "\n",
        "ans['len_name'] = ans.original_title.str.len()\n",
        "\n",
        "pivot_studios = ans.pivot_table(['len_name'],['production_companies'], aggfunc='mean')\n",
        "\n",
        "display(pivot_studios.sort_values(by='len_name', ascending = False).index[0])"
      ],
      "execution_count": null,
      "outputs": [
        {
          "output_type": "display_data",
          "data": {
            "application/vnd.google.colaboratory.intrinsic+json": {
              "type": "string"
            },
            "text/plain": [
              "'Four By Two Productions'"
            ]
          },
          "metadata": {
            "tags": []
          }
        }
      ]
    },
    {
      "cell_type": "markdown",
      "metadata": {
        "id": "9G0hbvR7VqAK"
      },
      "source": [
        "# 25. Описание фильмов какой студии в среднем самые длинные по количеству слов?"
      ]
    },
    {
      "cell_type": "code",
      "metadata": {
        "id": "Ge2GsLNxVqAK"
      },
      "source": [
        "answers['25'] = 'Midnight Picture Show' #+"
      ],
      "execution_count": 106,
      "outputs": []
    },
    {
      "cell_type": "code",
      "metadata": {
        "colab": {
          "base_uri": "https://localhost:8080/",
          "height": 35
        },
        "id": "ximYB0dIC-Y2",
        "outputId": "48a990b1-49bb-47cf-f53b-6954a3ed7a3a"
      },
      "source": [
        "ans=data.copy()\n",
        "ans['production_companies'] = ans.production_companies.str.split('|')\n",
        "ans = ans.explode('production_companies')\n",
        "\n",
        "def len_words(s):\n",
        "  return len(s.split())\n",
        "\n",
        "ans['len_overview'] = ans.overview.apply(len_words)    # как вариант lambda функция(lambda x:len(x.split(' ')))\n",
        "\n",
        "pivot_studios = ans.pivot_table(['len_overview'],['production_companies'], aggfunc='mean').sort_values(by='len_overview', ascending = False)\n",
        "display(pivot_studios.index[0])\n",
        "\n"
      ],
      "execution_count": 69,
      "outputs": [
        {
          "output_type": "display_data",
          "data": {
            "application/vnd.google.colaboratory.intrinsic+json": {
              "type": "string"
            },
            "text/plain": [
              "'Midnight Picture Show'"
            ]
          },
          "metadata": {
            "tags": []
          }
        }
      ]
    },
    {
      "cell_type": "markdown",
      "metadata": {
        "id": "FJ1AFt90VqAP"
      },
      "source": [
        "# 26. Какие фильмы входят в 1 процент лучших по рейтингу? \n",
        "по vote_average"
      ]
    },
    {
      "cell_type": "code",
      "metadata": {
        "id": "8qmJVq4CVqAQ"
      },
      "source": [
        "answers['26'] = 'Inside Out, The Dark Knight, 12 Years a Slave' #+"
      ],
      "execution_count": 111,
      "outputs": []
    },
    {
      "cell_type": "code",
      "metadata": {
        "colab": {
          "base_uri": "https://localhost:8080/",
          "height": 500
        },
        "id": "PScdj4Y_EN8Q",
        "outputId": "612a1afb-e94c-4d00-bf8d-d4255b775fd9"
      },
      "source": [
        "ans = data.copy()\n",
        "\n",
        "s = ans['vote_average'].quantile(q=0.99, interpolation='higher') #border of 99% vote_average results\n",
        "\n",
        "display(s)\n",
        "new_ans = ans[ans['vote_average'] > ans['vote_average'].quantile(q=0.99)]\n",
        "\n",
        "new_ans.sort_values(by='vote_average', ascending=False)\n",
        "display(new_ans[['original_title','vote_average']])"
      ],
      "execution_count": 78,
      "outputs": [
        {
          "output_type": "display_data",
          "data": {
            "text/plain": [
              "7.8"
            ]
          },
          "metadata": {
            "tags": []
          }
        },
        {
          "output_type": "display_data",
          "data": {
            "text/html": [
              "<div>\n",
              "<style scoped>\n",
              "    .dataframe tbody tr th:only-of-type {\n",
              "        vertical-align: middle;\n",
              "    }\n",
              "\n",
              "    .dataframe tbody tr th {\n",
              "        vertical-align: top;\n",
              "    }\n",
              "\n",
              "    .dataframe thead th {\n",
              "        text-align: right;\n",
              "    }\n",
              "</style>\n",
              "<table border=\"1\" class=\"dataframe\">\n",
              "  <thead>\n",
              "    <tr style=\"text-align: right;\">\n",
              "      <th></th>\n",
              "      <th>original_title</th>\n",
              "      <th>vote_average</th>\n",
              "    </tr>\n",
              "  </thead>\n",
              "  <tbody>\n",
              "    <tr>\n",
              "      <th>9</th>\n",
              "      <td>Inside Out</td>\n",
              "      <td>8.0</td>\n",
              "    </tr>\n",
              "    <tr>\n",
              "      <th>34</th>\n",
              "      <td>Room</td>\n",
              "      <td>8.0</td>\n",
              "    </tr>\n",
              "    <tr>\n",
              "      <th>118</th>\n",
              "      <td>Interstellar</td>\n",
              "      <td>8.0</td>\n",
              "    </tr>\n",
              "    <tr>\n",
              "      <th>119</th>\n",
              "      <td>Guardians of the Galaxy</td>\n",
              "      <td>7.9</td>\n",
              "    </tr>\n",
              "    <tr>\n",
              "      <th>125</th>\n",
              "      <td>The Imitation Game</td>\n",
              "      <td>8.0</td>\n",
              "    </tr>\n",
              "    <tr>\n",
              "      <th>128</th>\n",
              "      <td>Gone Girl</td>\n",
              "      <td>7.9</td>\n",
              "    </tr>\n",
              "    <tr>\n",
              "      <th>138</th>\n",
              "      <td>The Grand Budapest Hotel</td>\n",
              "      <td>7.9</td>\n",
              "    </tr>\n",
              "    <tr>\n",
              "      <th>370</th>\n",
              "      <td>Inception</td>\n",
              "      <td>7.9</td>\n",
              "    </tr>\n",
              "    <tr>\n",
              "      <th>599</th>\n",
              "      <td>The Dark Knight</td>\n",
              "      <td>8.1</td>\n",
              "    </tr>\n",
              "    <tr>\n",
              "      <th>872</th>\n",
              "      <td>The Pianist</td>\n",
              "      <td>7.9</td>\n",
              "    </tr>\n",
              "    <tr>\n",
              "      <th>1081</th>\n",
              "      <td>The Lord of the Rings: The Return of the King</td>\n",
              "      <td>7.9</td>\n",
              "    </tr>\n",
              "    <tr>\n",
              "      <th>1183</th>\n",
              "      <td>The Wolf of Wall Street</td>\n",
              "      <td>7.9</td>\n",
              "    </tr>\n",
              "    <tr>\n",
              "      <th>1191</th>\n",
              "      <td>12 Years a Slave</td>\n",
              "      <td>7.9</td>\n",
              "    </tr>\n",
              "    <tr>\n",
              "      <th>1800</th>\n",
              "      <td>Memento</td>\n",
              "      <td>7.9</td>\n",
              "    </tr>\n",
              "  </tbody>\n",
              "</table>\n",
              "</div>"
            ],
            "text/plain": [
              "                                     original_title  vote_average\n",
              "9                                        Inside Out           8.0\n",
              "34                                             Room           8.0\n",
              "118                                    Interstellar           8.0\n",
              "119                         Guardians of the Galaxy           7.9\n",
              "125                              The Imitation Game           8.0\n",
              "128                                       Gone Girl           7.9\n",
              "138                        The Grand Budapest Hotel           7.9\n",
              "370                                       Inception           7.9\n",
              "599                                 The Dark Knight           8.1\n",
              "872                                     The Pianist           7.9\n",
              "1081  The Lord of the Rings: The Return of the King           7.9\n",
              "1183                        The Wolf of Wall Street           7.9\n",
              "1191                               12 Years a Slave           7.9\n",
              "1800                                        Memento           7.9"
            ]
          },
          "metadata": {
            "tags": []
          }
        }
      ]
    },
    {
      "cell_type": "markdown",
      "metadata": {
        "id": "MdXsUXbCVqAV"
      },
      "source": [
        "# 27. Какие актеры чаще всего снимаются в одном фильме вместе?\n"
      ]
    },
    {
      "cell_type": "code",
      "metadata": {
        "id": "9WQ0Bw8gXWHU"
      },
      "source": [
        "answers['27'] = 'Daniel Radcliffe', 'Rupert Grint' #+"
      ],
      "execution_count": 112,
      "outputs": []
    },
    {
      "cell_type": "code",
      "metadata": {
        "colab": {
          "base_uri": "https://localhost:8080/"
        },
        "id": "GLV3DEv2XXJ4",
        "outputId": "bad67016-7415-4790-ffb8-b80029c852a6"
      },
      "source": [
        "pairs = Counter()\n",
        "\n",
        "for i in range(0,len(data)):\n",
        "  artist = data.cast[i].split('|')\n",
        "  for j in list(combinations(artist, 2)):\n",
        "    if j not in pairs:\n",
        "      pairs[j] = 1\n",
        "    else:\n",
        "      pairs[j] += 1\n",
        "\n",
        "pairs.most_common(5)\n",
        "\n"
      ],
      "execution_count": 77,
      "outputs": [
        {
          "output_type": "execute_result",
          "data": {
            "text/plain": [
              "[(('Daniel Radcliffe', 'Rupert Grint'), 8),\n",
              " (('Daniel Radcliffe', 'Emma Watson'), 8),\n",
              " (('Rupert Grint', 'Emma Watson'), 7),\n",
              " (('Ben Stiller', 'Owen Wilson'), 6),\n",
              " (('Johnny Depp', 'Helena Bonham Carter'), 6)]"
            ]
          },
          "metadata": {
            "tags": []
          },
          "execution_count": 77
        }
      ]
    },
    {
      "cell_type": "markdown",
      "metadata": {
        "id": "U0nONFnGVqAX"
      },
      "source": [
        "# Submission"
      ]
    },
    {
      "cell_type": "code",
      "metadata": {
        "id": "IfcaRO9-VqAX",
        "colab": {
          "base_uri": "https://localhost:8080/"
        },
        "outputId": "644893fd-90e3-40f2-9546-c96062fb96a6"
      },
      "source": [
        "# в конце можно посмотреть свои ответы к каждому вопросу\n",
        "answers"
      ],
      "execution_count": 113,
      "outputs": [
        {
          "output_type": "execute_result",
          "data": {
            "text/plain": [
              "{'1': 'Pirates of the Caribbean: On Stranger Tides (tt1298650)',\n",
              " '10': 'The Lone Ranger\\t(tt1210819)',\n",
              " '11': 'Drama',\n",
              " '12': 'Drama',\n",
              " '13': 'Peter Jackson',\n",
              " '14': 'Robert Rodriguez',\n",
              " '15': 'Chris Hemsworth',\n",
              " '16': 'Matt Damon',\n",
              " '17': 'Action',\n",
              " '18': 'K-19: The Widowmaker\\t(tt0267626)',\n",
              " '19': '2015',\n",
              " '2': 'Gods and Generals (tt0279111)',\n",
              " '20': '2014',\n",
              " '21': 'September',\n",
              " '22': '450',\n",
              " '23': 'Peter Jackson',\n",
              " '24': 'Four By Two Productions',\n",
              " '25': 'Midnight Picture Show',\n",
              " '26': 'Inside Out, The Dark Knight, 12 Years a Slave',\n",
              " '27': ('Daniel Radcliffe', 'Rupert Grint'),\n",
              " '3': 'Winnie the Pooh (tt1449283)',\n",
              " '4': '110',\n",
              " '5': '107',\n",
              " '6': 'Avatar\\ttt0499549',\n",
              " '7': 'The Lone Ranger\\ttt1210819',\n",
              " '8': '1478',\n",
              " '9': 'The Dark Knight (tt0468569)'}"
            ]
          },
          "metadata": {
            "tags": []
          },
          "execution_count": 113
        }
      ]
    },
    {
      "cell_type": "code",
      "metadata": {
        "id": "SiRmHPl8VqAd",
        "colab": {
          "base_uri": "https://localhost:8080/"
        },
        "outputId": "8daa6c93-e09b-4a7a-f51f-2ba3f770b541"
      },
      "source": [
        "# и убедиться что ни чего не пропустил)\n",
        "len(answers)"
      ],
      "execution_count": 114,
      "outputs": [
        {
          "output_type": "execute_result",
          "data": {
            "text/plain": [
              "27"
            ]
          },
          "metadata": {
            "tags": []
          },
          "execution_count": 114
        }
      ]
    },
    {
      "cell_type": "code",
      "metadata": {
        "id": "Vwx3NrkSVqAl"
      },
      "source": [
        ""
      ],
      "execution_count": null,
      "outputs": []
    }
  ]
}